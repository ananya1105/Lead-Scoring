{
 "cells": [
  {
   "cell_type": "code",
   "execution_count": 1,
   "metadata": {},
   "outputs": [],
   "source": [
    "import pandas as pd\n",
    "import re\n",
    "import matplotlib.pyplot as plt\n",
    "from tqdm import tqdm\n",
    "Met =pd.read_csv('data/Met.csv')\n",
    "IEd = pd.read_csv('data/IEd.csv')\n",
    "LMS = pd.read_csv('data/LMS.csv')\n",
    "LMS.drop(LMS[LMS.Type=='Traveller'].index,inplace=True)\n"
   ]
  },
  {
   "cell_type": "markdown",
   "metadata": {},
   "source": [
    "# Concatenating Data"
   ]
  },
  {
   "cell_type": "code",
   "execution_count": 2,
   "metadata": {},
   "outputs": [
    {
     "name": "stderr",
     "output_type": "stream",
     "text": [
      "/home/ananya/anaconda3/lib/python3.7/site-packages/ipykernel_launcher.py:1: FutureWarning: Sorting because non-concatenation axis is not aligned. A future version\n",
      "of pandas will change to not sort by default.\n",
      "\n",
      "To accept the future behavior, pass 'sort=False'.\n",
      "\n",
      "To retain the current behavior and silence the warning, pass 'sort=True'.\n",
      "\n",
      "  \"\"\"Entry point for launching an IPython kernel.\n"
     ]
    }
   ],
   "source": [
    "df = pd.concat([Met,IEd, LMS])"
   ]
  },
  {
   "cell_type": "markdown",
   "metadata": {},
   "source": [
    "# Encoding From Variable"
   ]
  },
  {
   "cell_type": "code",
   "execution_count": 3,
   "metadata": {},
   "outputs": [],
   "source": [
    "def encode_from(col,df):\n",
    "    df.fillna(0,inplace=True)\n",
    "\n",
    "    di = {}\n",
    "    try: \n",
    "        n = len(col.value_counts(ascending = True))\n",
    "        for i in range(len(col.value_counts(ascending = True))):\n",
    "            di[col.value_counts(ascending = True).index[i]] =  list(col.value_counts(ascending=True))[i]\n",
    "        for i in di:\n",
    "            \n",
    "            if(di[i]==1):\n",
    "                di[i]=1\n",
    "            elif(di[i]==2):\n",
    "                di[i]=2\n",
    "            elif(di[i]==3):\n",
    "                di[i]=3\n",
    "            elif(di[i]==4):\n",
    "                di[i]=4\n",
    "            elif(di[i]==5):\n",
    "                di[i]=5\n",
    "            elif(di[i]==6):\n",
    "                di[i]=6\n",
    "            elif(di[i]==7):\n",
    "                di[i]=7\n",
    "            elif(di[i]==8):\n",
    "                di[i]=8\n",
    "            elif(di[i]==9):\n",
    "                di[i]=9\n",
    "            elif(di[i]==10):\n",
    "                di[i]=10\n",
    "            elif(di[i]==11):\n",
    "                di[i]=11\n",
    "            elif(di[i]==12 or di[i]==13):\n",
    "                di[i]=12\n",
    "            elif(di[i]==14 or di[i]==16):\n",
    "                di[i]=13\n",
    "            elif(di[i] in range(17,21)):\n",
    "                di[i]=14\n",
    "            elif(di[i] in range(21,31)):\n",
    "                di[i]=15\n",
    "            elif (di[i] in range(31,41)) :\n",
    "                di[i] = 16\n",
    "            elif (di[i] in range(41,51)) :\n",
    "                di[i] = 17\n",
    "            elif (di[i] in range(51,151)) :\n",
    "                di[i] = 18\n",
    "            elif (di[i] in range(151,201)) :\n",
    "                di[i] = 19\n",
    "            elif di[i] >200 :\n",
    "                di[i] = 20\n",
    "    except:\n",
    "        print('Error')\n",
    "    for i in tqdm(range(col.shape[0])):\n",
    "        col.iloc[i]=di[col.iloc[i]] \n",
    "            \n",
    "    print(di)"
   ]
  },
  {
   "cell_type": "code",
   "execution_count": 4,
   "metadata": {},
   "outputs": [
    {
     "name": "stderr",
     "output_type": "stream",
     "text": [
      "  0%|          | 0/118224 [00:00<?, ?it/s]/home/ananya/anaconda3/lib/python3.7/site-packages/pandas/core/indexing.py:205: SettingWithCopyWarning: \n",
      "A value is trying to be set on a copy of a slice from a DataFrame\n",
      "\n",
      "See the caveats in the documentation: http://pandas.pydata.org/pandas-docs/stable/user_guide/indexing.html#returning-a-view-versus-a-copy\n",
      "  self._setitem_with_indexer(indexer, value)\n",
      "100%|██████████| 118224/118224 [13:44<00:00, 143.41it/s]"
     ]
    },
    {
     "name": "stdout",
     "output_type": "stream",
     "text": [
      "{'Gulmarg': 1, 'Madurai': 1, 'Udupi': 1, 'Roorkee': 1, 'DL': 1, 'Alleppey': 1, 'Jamshedpur': 1, 'Khajuraho': 1, 'Nicobar Islands': 1, 'Kanyakumari': 1, 'Durgapur': 1, 'Itanagar': 1, 'Darjeeling': 1, 'Trivandrum': 1, 'Vasco Da Gama': 1, 'Anand': 1, 'Bikaner': 1, 'Srinagar': 1, 'Quilon': 1, 'Tezpur': 1, 'Rishikesh': 1, 'Vaishali': 1, 'Mysore': 1, 'HR': 1, 'Murshidabad': 1, 'Mangalore': 1, 'Gandhinagar': 1, 'Rajkot': 2, 'Coimbatore': 2, 'Bhilwara': 2, 'Cuttack': 2, 'Greater Noida': 2, 'Kota': 2, 'Thane': 2, 'Alwar': 2, 'Kullu': 2, 'Imphal': 2, 'Aurangabad': 2, 'Shekhawati': 2, 'Faridabad': 3, 'Jammu': 3, 'kanpur': 3, 'Shimla': 3, 'Patiala': 3, 'Dhanbad': 3, 'Udaipur': 3, 'Jodhpur': 3, 'Amritsar': 3, 'Noida': 3, 'Dehradun': 3, 'Muzaffarnagar': 3, 'Nagpur': 3, 'Guwahati': 3, 'Kozhikode': 3, 'Gaya': 4, 'Agra': 4, 'Varanasi': 4, 'Navi Mumbai': 4, 'Nashik': 4, 'Nalanda': 4, 'Raipur': 4, 'Trichy': 4, 'Ujjain': 4, 'Aligarh': 4, 'Tirupati': 4, 'Ludhiana': 5, 'Karnal': 5, 'Ranchi': 5, 'Siliguri': 5, 'Visakhapatnam': 5, 'Jaipur': 6, 'Bhubaneswar': 6, 'Cochin': 6, 'Ghaziabad': 7, 'Allahabad': 7, 'Bhopal': 8, 'Lucknow': 9, 'Vijayawada': 9, 'Vadodara': 9, 'Chandigarh': 10, 'Indore': 11, 'Gurgaon': 12, 'Surat': 13, 'Patna': 13, 'Kolkata': 16, '0': 18, 'New Delhi': 18, 'Other': 18, 'Ahmedabad': 20, 'Chennai': 20, 'Bangalore': 20, 'Pune': 20, 'Mumbai': 20, 'Delhi': 20, 'Hyderabad': 20, 0.0: 20}\n"
     ]
    },
    {
     "name": "stderr",
     "output_type": "stream",
     "text": [
      "\n"
     ]
    }
   ],
   "source": [
    "encode_from(df['From City'],df)"
   ]
  },
  {
   "cell_type": "code",
   "execution_count": 5,
   "metadata": {},
   "outputs": [
    {
     "data": {
      "text/plain": [
       "array([20, 16, 18, 12,  4,  2,  1,  9,  3,  6, 11, 13,  5, 10,  7,  8])"
      ]
     },
     "execution_count": 5,
     "metadata": {},
     "output_type": "execute_result"
    }
   ],
   "source": [
    "df['From City'].unique()"
   ]
  },
  {
   "cell_type": "markdown",
   "metadata": {},
   "source": [
    "# Encoding To City"
   ]
  },
  {
   "cell_type": "code",
   "execution_count": 6,
   "metadata": {},
   "outputs": [
    {
     "name": "stderr",
     "output_type": "stream",
     "text": [
      "100%|██████████| 118224/118224 [13:59<00:00, 140.90it/s]\n"
     ]
    }
   ],
   "source": [
    "for i in tqdm(range(df['To City'].shape[0])):\n",
    "    if df['To City'].iloc[i] in [ 'India', 'UAE','Singapore']:\n",
    "        df['To City'].iloc[i]= 4#'Asia'\n",
    "    elif (df['To City'].iloc[i] in ['Canada', 'USA']):\n",
    "        df['To City'].iloc[i] = 8 #'North America'\n",
    "    \n",
    "    elif(df['To City'].iloc[i] in ['Australia', 'New Zealand', 'New Zeland']):\n",
    "        df['To City'].iloc[i] = 6 #'Oceania'\n",
    "        \n",
    "       \n",
    "    elif (df['To City'].iloc[i] in ['Ireland', 'UK','Germany' 'Netherlands', 'Uk',\n",
    "       'Denmark', 'Switzerland', 'Spain', 'Italy', 'France',\n",
    "       'New Zeland', 'Hungary', 'Freance', 'Usn', 'Itley', 'Netherland']):\n",
    "        df['To City'].iloc[i] = 7 #'Europe'\n",
    "    else:\n",
    "        df['To City'].iloc[i] = 0"
   ]
  },
  {
   "cell_type": "code",
   "execution_count": 7,
   "metadata": {},
   "outputs": [
    {
     "data": {
      "text/plain": [
       "array([0, 8, 6, 7, 4])"
      ]
     },
     "execution_count": 7,
     "metadata": {},
     "output_type": "execute_result"
    }
   ],
   "source": [
    "df['To City'].unique()"
   ]
  },
  {
   "cell_type": "markdown",
   "metadata": {},
   "source": [
    "# Getting Source Score"
   ]
  },
  {
   "cell_type": "code",
   "execution_count": 8,
   "metadata": {},
   "outputs": [],
   "source": [
    "sor = pd.read_csv('final_student_score.csv')\n",
    "sor.rename(columns={'Score0.3':'Score'},inplace=True)\n",
    "sor['Source'] = sor['Source'].str.replace(' ','')\n",
    "sor['Source'] = sor['Source'].str.lower()\n",
    "df['Source'] = df['Source'].str.replace(' ','')\n",
    "df['Source'] = df['Source'].str.lower()\n",
    "df1 = pd.merge(df, sor, how = 'left', on='Source')\n",
    "df1.Score.fillna(0,inplace = True)\n"
   ]
  },
  {
   "cell_type": "code",
   "execution_count": 9,
   "metadata": {},
   "outputs": [
    {
     "data": {
      "text/plain": [
       "Email            0\n",
       "From City        0\n",
       "Lead Date        0\n",
       "Name             0\n",
       "Nights           0\n",
       "Pax              0\n",
       "Phone            0\n",
       "Source           0\n",
       "To City          0\n",
       "Type             0\n",
       "Unnamed: 0       0\n",
       "Unnamed: 4       0\n",
       "referral_page    0\n",
       "dtype: int64"
      ]
     },
     "execution_count": 9,
     "metadata": {},
     "output_type": "execute_result"
    }
   ],
   "source": [
    "df.isnull().sum()"
   ]
  },
  {
   "cell_type": "markdown",
   "metadata": {},
   "source": [
    "# Calculating Final Score"
   ]
  },
  {
   "cell_type": "code",
   "execution_count": 10,
   "metadata": {},
   "outputs": [],
   "source": [
    "def sca(df):\n",
    "    for i in ['Score','To City','From City']:\n",
    "        df[i] = (df[i]/df[i].max())*100\n",
    "sca(df1)\n",
    "wt = [9,8,3]\n",
    "df1['FS'] = 9*df1['Score']+(8*df1['To City'])+(3*df1['From City'])\n"
   ]
  },
  {
   "cell_type": "code",
   "execution_count": 11,
   "metadata": {},
   "outputs": [],
   "source": [
    "df1['FS'] = (df1['FS']/df1['FS'].max())*1000"
   ]
  },
  {
   "cell_type": "markdown",
   "metadata": {},
   "source": [
    "# Creating Final File"
   ]
  },
  {
   "cell_type": "code",
   "execution_count": 12,
   "metadata": {},
   "outputs": [
    {
     "name": "stderr",
     "output_type": "stream",
     "text": [
      "/home/ananya/anaconda3/lib/python3.7/site-packages/ipykernel_launcher.py:2: SettingWithCopyWarning: \n",
      "A value is trying to be set on a copy of a slice from a DataFrame.\n",
      "Try using .loc[row_indexer,col_indexer] = value instead\n",
      "\n",
      "See the caveats in the documentation: http://pandas.pydata.org/pandas-docs/stable/user_guide/indexing.html#returning-a-view-versus-a-copy\n",
      "  \n",
      "/home/ananya/anaconda3/lib/python3.7/site-packages/ipykernel_launcher.py:3: SettingWithCopyWarning: \n",
      "A value is trying to be set on a copy of a slice from a DataFrame.\n",
      "Try using .loc[row_indexer,col_indexer] = value instead\n",
      "\n",
      "See the caveats in the documentation: http://pandas.pydata.org/pandas-docs/stable/user_guide/indexing.html#returning-a-view-versus-a-copy\n",
      "  This is separate from the ipykernel package so we can avoid doing imports until\n"
     ]
    }
   ],
   "source": [
    "df2 = df1[['Name','Email','Phone','Score','Source','To City','From City','FS']]\n",
    "df2['FS_percentile'] = df2['FS'].rank(pct=True)*100\n",
    "df2['FS_percentile'] = df2['FS_percentile'].astype(int)\n",
    "df2.to_csv('Student.csv')"
   ]
  },
  {
   "cell_type": "code",
   "execution_count": 19,
   "metadata": {},
   "outputs": [
    {
     "data": {
      "text/plain": [
       "<matplotlib.axes._subplots.AxesSubplot at 0x7f5769c4a310>"
      ]
     },
     "execution_count": 19,
     "metadata": {},
     "output_type": "execute_result"
    },
    {
     "data": {
      "image/png": "[encoded data removed]",
      "text/plain": [
       "<Figure size 432x288 with 1 Axes>"
      ]
     },
     "metadata": {
      "needs_background": "light"
     },
     "output_type": "display_data"
    }
   ],
   "source": [
    "df2['FS'].hist()"
   ]
  },
  {
   "cell_type": "code",
   "execution_count": 19,
   "metadata": {},
   "outputs": [
    {
     "data": {
      "text/plain": [
       "Text(0.5, 1.0, 'Student_Data')"
      ]
     },
     "execution_count": 19,
     "metadata": {},
     "output_type": "execute_result"
    },
    {
     "data": {
      "image/png": "[encoded data removed]",
      "text/plain": [
       "<Figure size 432x288 with 1 Axes>"
      ]
     },
     "metadata": {
      "needs_background": "light"
     },
     "output_type": "display_data"
    }
   ],
   "source": [
    "df2['FS_percentile'].hist()\n",
    "plt.xlabel('FS_percentile')\n",
    "plt.ylabel('Number of Records(CRNs)')\n",
    "plt.title('Student_Data')"
   ]
  },
  {
   "cell_type": "code",
   "execution_count": 16,
   "metadata": {},
   "outputs": [
    {
     "name": "stdout",
     "output_type": "stream",
     "text": [
      "amberstudents\n",
      "google\n",
      "inhousecallcenter\n",
      "ivr\n",
      "web_chat\n",
      "yocket\n",
      "referral\n",
      "jigserv_march_solo\n",
      "website\n",
      "cardinfo.in\n",
      "mentorix\n",
      "mentorix\n",
      "mentorix\n",
      "['amberstudents' 'google' 'inhousecallcenter' 'ivr' 'web_chat' 'yocket'\n",
      " 'referral' 'jigserv_march_solo' 'website' 'cardinfo.in' 'mentorix']\n"
     ]
    }
   ],
   "source": [
    "t = df2.groupby(['FS_percentile','Source']).count()\n",
    "ls = list(t.loc[70:100].index)\n",
    "so = []\n",
    "for i in ls:\n",
    "    print(i[1])\n",
    "    so.append(i[1])\n",
    "print(pd.Series(so).unique())\n",
    "pd.DataFrame(pd.Series(so).unique()).to_csv('student_source.csv')"
   ]
  }
 ],
 "metadata": {
  "kernelspec": {
   "display_name": "Python 3",
   "language": "python",
   "name": "python3"
  },
  "language_info": {
   "codemirror_mode": {
    "name": "ipython",
    "version": 3
   },
   "file_extension": ".py",
   "mimetype": "text/x-python",
   "name": "python",
   "nbconvert_exporter": "python",
   "pygments_lexer": "ipython3",
   "version": "3.7.4"
  }
 },
 "nbformat": 4,
 "nbformat_minor": 2
}
